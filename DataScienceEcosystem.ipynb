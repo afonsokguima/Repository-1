{
 "cells": [
  {
   "cell_type": "markdown",
   "id": "bcb143f9-d918-495a-9558-01773a4e6194",
   "metadata": {},
   "source": [
    "# Data Science Tools and Ecosystem"
   ]
  },
  {
   "cell_type": "markdown",
   "id": "7ac62048-8674-48f5-b05f-2acfbc0ff2ff",
   "metadata": {},
   "source": [
    "In this notebook, Data Science Tools and Ecosystem are summarized."
   ]
  },
  {
   "cell_type": "markdown",
   "id": "239003a4-60fb-42fc-bb0e-4e85d45089ed",
   "metadata": {},
   "source": [
    "Some of the popular languages that Data Scientists use are:\n",
    "1. Python\n",
    "2. R Studio\n",
    "3. SQL"
   ]
  },
  {
   "cell_type": "markdown",
   "id": "a5269fb4-27dd-4a56-a452-8de76cf1eab2",
   "metadata": {},
   "source": [
    "Some of the commonly used libraries used by Data Scientists include:\n",
    "1. TenserFlow\n",
    "2. NumPy\n",
    "3. Matplotlib"
   ]
  },
  {
   "cell_type": "markdown",
   "id": "64a0d8c0-4667-4919-8a6b-d004b0444f45",
   "metadata": {},
   "source": [
    "**Objectives:**\n",
    "* Popular programming languages for Data Science\n",
    "* How GitHub can be a useful tool by allowing multiple people to make changes to an environment at the same time \n",
    "* Introduction to programming on Jupyter notebooks and R Studio\n"
   ]
  },
  {
   "cell_type": "markdown",
   "id": "33ca9ba9-6875-4b5f-ad4d-33d10a40fbaa",
   "metadata": {},
   "source": [
    "| Data Science Tools |\n",
    "| ---- |\n",
    "| GitHub |\n",
    "| Apache Spark | \n",
    "| Apache Hadoop |"
   ]
  },
  {
   "cell_type": "markdown",
   "id": "da27498f-2c70-43c0-99e6-969b44b375c6",
   "metadata": {},
   "source": [
    "### Below are a few examples of evaluating arithmetic expressions in Python"
   ]
  },
  {
   "cell_type": "code",
   "execution_count": 1,
   "id": "71874893-e3b8-4ffe-a6cd-a00ead307037",
   "metadata": {},
   "outputs": [
    {
     "data": {
      "text/plain": [
       "17"
      ]
     },
     "execution_count": 1,
     "metadata": {},
     "output_type": "execute_result"
    }
   ],
   "source": [
    "# This a simple arithmetic expression to mutiply then add integers\n",
    "(3*4)+5"
   ]
  },
  {
   "cell_type": "code",
   "execution_count": 2,
   "id": "de398a8f-ef31-4fbe-ad18-1964894dc4c7",
   "metadata": {},
   "outputs": [
    {
     "name": "stdout",
     "output_type": "stream",
     "text": [
      "3.3333333333333335\n"
     ]
    }
   ],
   "source": [
    "# This will convert 200 minutes to hours by diving by 60\n",
    "minutes = 200\n",
    "hours = minutes / 60\n",
    "\n",
    "print(hours)"
   ]
  },
  {
   "cell_type": "markdown",
   "id": "712b7614-5de4-4712-94ce-59914e939b08",
   "metadata": {},
   "source": [
    "## Author\n",
    "Afonso Guimarães"
   ]
  },
  {
   "cell_type": "code",
   "execution_count": null,
   "id": "fe7cdee5-7bdf-4376-a116-5b0158567fdc",
   "metadata": {},
   "outputs": [],
   "source": []
  }
 ],
 "metadata": {
  "kernelspec": {
   "display_name": "Python 3 (ipykernel)",
   "language": "python",
   "name": "python3"
  },
  "language_info": {
   "codemirror_mode": {
    "name": "ipython",
    "version": 3
   },
   "file_extension": ".py",
   "mimetype": "text/x-python",
   "name": "python",
   "nbconvert_exporter": "python",
   "pygments_lexer": "ipython3",
   "version": "3.12.4"
  }
 },
 "nbformat": 4,
 "nbformat_minor": 5
}
